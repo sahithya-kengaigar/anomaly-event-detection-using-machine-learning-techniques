{
 "cells": [
  {
   "cell_type": "code",
   "execution_count": 1,
   "metadata": {},
   "outputs": [],
   "source": [
    "import cv2 #used frame extraction / read video\n",
    "import pandas as pd #used for creating data frames\n",
    "import numpy as np #arrays and vectors\n",
    "from glob import glob # used to return all file paths that match a specific pattern\n",
    "# import lib_file"
   ]
  },
  {
   "cell_type": "code",
   "execution_count": 2,
   "metadata": {},
   "outputs": [],
   "source": [
    "f = open('train_path.txt','r')\n",
    "temp=f.read()\n",
    "videos = temp.split('|') #input/train/Arson/Arson037_x264.mp4 0"
   ]
  },
  {
   "cell_type": "code",
   "execution_count": 3,
   "metadata": {},
   "outputs": [
    {
     "data": {
      "text/html": [
       "<div>\n",
       "<style scoped>\n",
       "    .dataframe tbody tr th:only-of-type {\n",
       "        vertical-align: middle;\n",
       "    }\n",
       "\n",
       "    .dataframe tbody tr th {\n",
       "        vertical-align: top;\n",
       "    }\n",
       "\n",
       "    .dataframe thead th {\n",
       "        text-align: right;\n",
       "    }\n",
       "</style>\n",
       "<table border=\"1\" class=\"dataframe\">\n",
       "  <thead>\n",
       "    <tr style=\"text-align: right;\">\n",
       "      <th></th>\n",
       "      <th>video_name</th>\n",
       "    </tr>\n",
       "  </thead>\n",
       "  <tbody>\n",
       "    <tr>\n",
       "      <th>326</th>\n",
       "      <td>input/train/Normal/Normal_Videos_365_x264.mp4 4</td>\n",
       "    </tr>\n",
       "    <tr>\n",
       "      <th>327</th>\n",
       "      <td>input/train/Normal/Normal_Videos_401_x264.mp4 4</td>\n",
       "    </tr>\n",
       "    <tr>\n",
       "      <th>328</th>\n",
       "      <td>input/train/Normal/Normal_Videos_417_x264.mp4 4</td>\n",
       "    </tr>\n",
       "    <tr>\n",
       "      <th>329</th>\n",
       "      <td>input/train/Normal/Normal_Videos_439_x264.mp4 4</td>\n",
       "    </tr>\n",
       "    <tr>\n",
       "      <th>330</th>\n",
       "      <td>input/train/Normal/Normal_Videos_452_x264.mp4 4</td>\n",
       "    </tr>\n",
       "  </tbody>\n",
       "</table>\n",
       "</div>"
      ],
      "text/plain": [
       "                                          video_name\n",
       "326  input/train/Normal/Normal_Videos_365_x264.mp4 4\n",
       "327  input/train/Normal/Normal_Videos_401_x264.mp4 4\n",
       "328  input/train/Normal/Normal_Videos_417_x264.mp4 4\n",
       "329  input/train/Normal/Normal_Videos_439_x264.mp4 4\n",
       "330  input/train/Normal/Normal_Videos_452_x264.mp4 4"
      ]
     },
     "execution_count": 3,
     "metadata": {},
     "output_type": "execute_result"
    }
   ],
   "source": [
    "train = pd.DataFrame()\n",
    "train['video_name'] = videos\n",
    "train = train[:-1] # except last blank after |\n",
    "train.tail() #  displays the last five rows of the dataframe by default."
   ]
  },
  {
   "cell_type": "code",
   "execution_count": 4,
   "metadata": {},
   "outputs": [],
   "source": [
    "train_video_tag=[]\n",
    "for i in range(train.shape[0]): # number of videos in train variable\n",
    "    train_video_tag.append(train['video_name'][i].split('/')[2]) # split video-name and append 3rd term, i.e. normal, arson...\n",
    "train['tag'] = train_video_tag"
   ]
  },
  {
   "cell_type": "code",
   "execution_count": 5,
   "metadata": {},
   "outputs": [
    {
     "data": {
      "text/html": [
       "<div>\n",
       "<style scoped>\n",
       "    .dataframe tbody tr th:only-of-type {\n",
       "        vertical-align: middle;\n",
       "    }\n",
       "\n",
       "    .dataframe tbody tr th {\n",
       "        vertical-align: top;\n",
       "    }\n",
       "\n",
       "    .dataframe thead th {\n",
       "        text-align: right;\n",
       "    }\n",
       "</style>\n",
       "<table border=\"1\" class=\"dataframe\">\n",
       "  <thead>\n",
       "    <tr style=\"text-align: right;\">\n",
       "      <th></th>\n",
       "      <th>video_name</th>\n",
       "      <th>tag</th>\n",
       "    </tr>\n",
       "  </thead>\n",
       "  <tbody>\n",
       "    <tr>\n",
       "      <th>326</th>\n",
       "      <td>input/train/Normal/Normal_Videos_365_x264.mp4 4</td>\n",
       "      <td>Normal</td>\n",
       "    </tr>\n",
       "    <tr>\n",
       "      <th>327</th>\n",
       "      <td>input/train/Normal/Normal_Videos_401_x264.mp4 4</td>\n",
       "      <td>Normal</td>\n",
       "    </tr>\n",
       "    <tr>\n",
       "      <th>328</th>\n",
       "      <td>input/train/Normal/Normal_Videos_417_x264.mp4 4</td>\n",
       "      <td>Normal</td>\n",
       "    </tr>\n",
       "    <tr>\n",
       "      <th>329</th>\n",
       "      <td>input/train/Normal/Normal_Videos_439_x264.mp4 4</td>\n",
       "      <td>Normal</td>\n",
       "    </tr>\n",
       "    <tr>\n",
       "      <th>330</th>\n",
       "      <td>input/train/Normal/Normal_Videos_452_x264.mp4 4</td>\n",
       "      <td>Normal</td>\n",
       "    </tr>\n",
       "  </tbody>\n",
       "</table>\n",
       "</div>"
      ],
      "text/plain": [
       "                                          video_name     tag\n",
       "326  input/train/Normal/Normal_Videos_365_x264.mp4 4  Normal\n",
       "327  input/train/Normal/Normal_Videos_401_x264.mp4 4  Normal\n",
       "328  input/train/Normal/Normal_Videos_417_x264.mp4 4  Normal\n",
       "329  input/train/Normal/Normal_Videos_439_x264.mp4 4  Normal\n",
       "330  input/train/Normal/Normal_Videos_452_x264.mp4 4  Normal"
      ]
     },
     "execution_count": 5,
     "metadata": {},
     "output_type": "execute_result"
    }
   ],
   "source": [
    "train.tail() # demo"
   ]
  },
  {
   "cell_type": "code",
   "execution_count": 6,
   "metadata": {},
   "outputs": [
    {
     "data": {
      "text/plain": [
       "331"
      ]
     },
     "execution_count": 6,
     "metadata": {},
     "output_type": "execute_result"
    }
   ],
   "source": [
    "train.shape[0] # demo"
   ]
  },
  {
   "cell_type": "code",
   "execution_count": 7,
   "metadata": {
    "scrolled": false
   },
   "outputs": [],
   "source": [
    "count = 0\n",
    "for i in range(0,train.shape[0]): # for each train video \n",
    "    videoFile = train['video_name'][i]\n",
    "#    print(videoFile)\n",
    "    cam = cv2.VideoCapture(videoFile.split(' ')[0]) # to obtain video-path in index 0 after split; index 1 will have number 0-4\n",
    "    # VideoCapture will create an object of class VideoCapture\n",
    "\n",
    "    # frame \n",
    "    currentframe = 0 # track the number of the current frame we are processing, starting at zero\n",
    "  \n",
    "    while(True): \n",
    "        # reading from frame \n",
    "        ret,frame = cam.read() \n",
    "        # To grab a frame from the video, we call the read method on our VideoCapture object. \n",
    "        # This method takes no arguments and returns a tuple. \n",
    "        # The first value of the tuple is a Boolean indicating if we could read the frame or not and the second value is the actual frame.\n",
    "        if ret: # success\n",
    "            if count%300 == 0 : # for each 300 success frames\n",
    "            # if video is still left continue creating images \n",
    "                # name = './data/frame' + str(currentframe) + '.jpg'\n",
    "                filename = 'train_data/'+videoFile.split('/')[2]+\"_frame%d.jpg\" % count;\n",
    "                #Creating...train_data/Arson_frame0.jpg\n",
    "                #Creating...train_data/Arson_frame300.jpg\n",
    "                #Creating...train_data/Arson_frame600.jpg\n",
    "#                print ('Creating...' + filename) \n",
    "  \n",
    "                # writing the extracted images \n",
    "                cv2.imwrite(filename, frame) # The code to save the file\n",
    "                # the strings include the path to the folder where we want to save the frames, in our file system.\n",
    "                # increasing counter so that it will show how many frames are created \n",
    "                currentframe += 1\n",
    "            count+=1 # increasing counter for each success frame\n",
    "        else: # failure to create frames\n",
    "            break\n",
    "  \n",
    "    # Release all space and windows once done \n",
    "    cam.release() # closes video file or capturing device\n",
    "    cv2.destroyAllWindows() # destroy all windows we created"
   ]
  },
  {
   "cell_type": "code",
   "execution_count": 8,
   "metadata": {},
   "outputs": [],
   "source": [
    "images = glob(\"train_data/*.jpg\") # glob (short for global) is used to return all file paths that match a specific pattern\n",
    "# here frame path\n",
    "# images = ['train_data\\\\Arson_frame0.jpg', .... ]\n",
    "train_image = []\n",
    "train_class = []\n",
    "\n",
    "for i in range(len(images)): # for each frame saved\n",
    "  \n",
    "    train_image.append(images[i].split('\\\\')[1]) # Arson_frame0.jpg\n",
    "    \n",
    "    train_class.append(images[i].split('\\\\')[1].split('_')[0]) # Arson\n",
    "\n",
    "train_data = pd.DataFrame()\n",
    "train_data['image'] = train_image\n",
    "train_data['class'] = train_class\n",
    "train_data.to_csv('train_new.csv',header=True,index=False) # Write object to a comma-separated values (csv) file.\n",
    "# header: bool or list of str, default True;\n",
    "# Write out the column names. If a list of strings is given it is assumed to be aliases for the column names.\n",
    "# image and class are headers\n",
    "\n",
    "# index: bool, default True;\n",
    "# Write row names (index).\n",
    "# do not add another column for index value"
   ]
  },
  {
   "cell_type": "code",
   "execution_count": null,
   "metadata": {},
   "outputs": [],
   "source": []
  }
 ],
 "metadata": {
  "kernelspec": {
   "display_name": "Python 3 (ipykernel)",
   "language": "python",
   "name": "python3"
  },
  "language_info": {
   "codemirror_mode": {
    "name": "ipython",
    "version": 3
   },
   "file_extension": ".py",
   "mimetype": "text/x-python",
   "name": "python",
   "nbconvert_exporter": "python",
   "pygments_lexer": "ipython3",
   "version": "3.8.8"
  }
 },
 "nbformat": 4,
 "nbformat_minor": 2
}
