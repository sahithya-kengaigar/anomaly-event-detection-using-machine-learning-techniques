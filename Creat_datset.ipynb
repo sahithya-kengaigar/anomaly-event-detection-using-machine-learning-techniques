{
 "cells": [
  {
   "cell_type": "code",
   "execution_count": 1,
   "metadata": {},
   "outputs": [],
   "source": [
    "import os\n",
    "import csv\n",
    "import shutil"
   ]
  },
  {
   "cell_type": "code",
   "execution_count": 4,
   "metadata": {},
   "outputs": [
    {
     "name": "stdout",
     "output_type": "stream",
     "text": [
      "Requirement already satisfied: flask in c:\\users\\ganes\\anaconda3\\lib\\site-packages (2.0.2)\n",
      "Requirement already satisfied: Werkzeug>=2.0 in c:\\users\\ganes\\anaconda3\\lib\\site-packages (from flask) (2.0.2)\n",
      "Requirement already satisfied: Jinja2>=3.0 in c:\\users\\ganes\\anaconda3\\lib\\site-packages (from flask) (3.0.2)\n",
      "Requirement already satisfied: click>=7.1.2 in c:\\users\\ganes\\anaconda3\\lib\\site-packages (from flask) (8.0.3)\n",
      "Requirement already satisfied: itsdangerous>=2.0 in c:\\users\\ganes\\anaconda3\\lib\\site-packages (from flask) (2.0.1)\n",
      "Requirement already satisfied: colorama in c:\\users\\ganes\\anaconda3\\lib\\site-packages (from click>=7.1.2->flask) (0.4.4)\n",
      "Requirement already satisfied: MarkupSafe>=2.0 in c:\\users\\ganes\\anaconda3\\lib\\site-packages (from Jinja2>=3.0->flask) (2.0.1)\n",
      "Note: you may need to restart the kernel to use updated packages.\n"
     ]
    }
   ],
   "source": [
    "pip install flask"
   ]
  },
  {
   "cell_type": "code",
   "execution_count": 2,
   "metadata": {},
   "outputs": [],
   "source": [
    "class_labels = ['Arson','Burglary','Explosion','Fighting','Normal']"
   ]
  },
  {
   "cell_type": "code",
   "execution_count": 3,
   "metadata": {},
   "outputs": [
    {
     "name": "stdout",
     "output_type": "stream",
     "text": [
      "['Arson', 'Burglary', 'Explosion', 'Fighting', 'Normal']\n"
     ]
    }
   ],
   "source": [
    "# for label in class_labels:\n",
    "dest_path = os.path.join('input/train') # join path to the train directory\n",
    "m= os.listdir(dest_path) # list of all files and directories in the specified directory (arson, burglary directory)\n",
    "print(m)\n",
    "# os.makedirs(dest_path)\n",
    "for fol in m: # for all event directories\n",
    "    new=os.path.join(dest_path,fol) # join path to all event directories\n",
    "    for i in os.listdir(new): # for each file in an event directory (video files)\n",
    "        with open('train_path.txt', 'a') as w: # open file\n",
    "            if fol=='Arson':\n",
    "                n=0\n",
    "            elif fol=='Burglary':\n",
    "                n=1\n",
    "            elif fol=='Explosion':\n",
    "                n=2\n",
    "            elif fol=='Fighting':\n",
    "                n=3\n",
    "            elif fol=='Normal':\n",
    "                n=4\n",
    "                \n",
    "            w.write(dest_path+'/'+fol+'/'+i+' '+str(n)+'|') # append filepath with number(n)\n",
    "            #input/train/Arson/Arson037_x264.mp4 0\n",
    "        "
   ]
  },
  {
   "cell_type": "code",
   "execution_count": null,
   "metadata": {},
   "outputs": [],
   "source": []
  }
 ],
 "metadata": {
  "kernelspec": {
   "display_name": "Python 3 (ipykernel)",
   "language": "python",
   "name": "python3"
  },
  "language_info": {
   "codemirror_mode": {
    "name": "ipython",
    "version": 3
   },
   "file_extension": ".py",
   "mimetype": "text/x-python",
   "name": "python",
   "nbconvert_exporter": "python",
   "pygments_lexer": "ipython3",
   "version": "3.8.8"
  }
 },
 "nbformat": 4,
 "nbformat_minor": 2
}
